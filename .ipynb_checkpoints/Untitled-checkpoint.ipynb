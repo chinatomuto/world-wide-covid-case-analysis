{
 "cells": [
  {
   "cell_type": "code",
   "execution_count": 12,
   "metadata": {},
   "outputs": [],
   "source": [
    "## The data set was obtained from kaggle.com\n",
    "## Covid-19 worldwide data by akash kunwar, obtained on the 23/02/2022"
   ]
  },
  {
   "cell_type": "markdown",
   "metadata": {},
   "source": [
    "## Importing the data set"
   ]
  },
  {
   "cell_type": "code",
   "execution_count": 20,
   "metadata": {},
   "outputs": [],
   "source": [
    "import pandas as pd\n",
    "import seaborn as sns"
   ]
  },
  {
   "cell_type": "code",
   "execution_count": 3,
   "metadata": {},
   "outputs": [],
   "source": [
    "covidData = pd.read_csv('Covid data.csv')"
   ]
  },
  {
   "cell_type": "code",
   "execution_count": 4,
   "metadata": {},
   "outputs": [
    {
     "data": {
      "text/html": [
       "<div>\n",
       "<style scoped>\n",
       "    .dataframe tbody tr th:only-of-type {\n",
       "        vertical-align: middle;\n",
       "    }\n",
       "\n",
       "    .dataframe tbody tr th {\n",
       "        vertical-align: top;\n",
       "    }\n",
       "\n",
       "    .dataframe thead th {\n",
       "        text-align: right;\n",
       "    }\n",
       "</style>\n",
       "<table border=\"1\" class=\"dataframe\">\n",
       "  <thead>\n",
       "    <tr style=\"text-align: right;\">\n",
       "      <th></th>\n",
       "      <th>Date</th>\n",
       "      <th>Country</th>\n",
       "      <th>Total cases</th>\n",
       "      <th>Total deaths</th>\n",
       "      <th>New cases</th>\n",
       "      <th>New deaths</th>\n",
       "    </tr>\n",
       "  </thead>\n",
       "  <tbody>\n",
       "    <tr>\n",
       "      <th>0</th>\n",
       "      <td>2020-01-22</td>\n",
       "      <td>Afghanistan</td>\n",
       "      <td>0</td>\n",
       "      <td>0</td>\n",
       "      <td>0</td>\n",
       "      <td>0</td>\n",
       "    </tr>\n",
       "    <tr>\n",
       "      <th>1</th>\n",
       "      <td>2020-01-23</td>\n",
       "      <td>Afghanistan</td>\n",
       "      <td>0</td>\n",
       "      <td>0</td>\n",
       "      <td>0</td>\n",
       "      <td>0</td>\n",
       "    </tr>\n",
       "    <tr>\n",
       "      <th>2</th>\n",
       "      <td>2020-01-24</td>\n",
       "      <td>Afghanistan</td>\n",
       "      <td>0</td>\n",
       "      <td>0</td>\n",
       "      <td>0</td>\n",
       "      <td>0</td>\n",
       "    </tr>\n",
       "    <tr>\n",
       "      <th>3</th>\n",
       "      <td>2020-01-25</td>\n",
       "      <td>Afghanistan</td>\n",
       "      <td>0</td>\n",
       "      <td>0</td>\n",
       "      <td>0</td>\n",
       "      <td>0</td>\n",
       "    </tr>\n",
       "    <tr>\n",
       "      <th>4</th>\n",
       "      <td>2020-01-26</td>\n",
       "      <td>Afghanistan</td>\n",
       "      <td>0</td>\n",
       "      <td>0</td>\n",
       "      <td>0</td>\n",
       "      <td>0</td>\n",
       "    </tr>\n",
       "    <tr>\n",
       "      <th>...</th>\n",
       "      <td>...</td>\n",
       "      <td>...</td>\n",
       "      <td>...</td>\n",
       "      <td>...</td>\n",
       "      <td>...</td>\n",
       "      <td>...</td>\n",
       "    </tr>\n",
       "    <tr>\n",
       "      <th>208595</th>\n",
       "      <td>2022-01-31</td>\n",
       "      <td>Zimbabwe</td>\n",
       "      <td>229666</td>\n",
       "      <td>5338</td>\n",
       "      <td>206</td>\n",
       "      <td>1</td>\n",
       "    </tr>\n",
       "    <tr>\n",
       "      <th>208596</th>\n",
       "      <td>2022-02-01</td>\n",
       "      <td>Zimbabwe</td>\n",
       "      <td>229851</td>\n",
       "      <td>5350</td>\n",
       "      <td>185</td>\n",
       "      <td>12</td>\n",
       "    </tr>\n",
       "    <tr>\n",
       "      <th>208597</th>\n",
       "      <td>2022-02-02</td>\n",
       "      <td>Zimbabwe</td>\n",
       "      <td>230012</td>\n",
       "      <td>5352</td>\n",
       "      <td>161</td>\n",
       "      <td>2</td>\n",
       "    </tr>\n",
       "    <tr>\n",
       "      <th>208598</th>\n",
       "      <td>2022-02-03</td>\n",
       "      <td>Zimbabwe</td>\n",
       "      <td>230170</td>\n",
       "      <td>5357</td>\n",
       "      <td>158</td>\n",
       "      <td>5</td>\n",
       "    </tr>\n",
       "    <tr>\n",
       "      <th>208599</th>\n",
       "      <td>2022-02-04</td>\n",
       "      <td>Zimbabwe</td>\n",
       "      <td>230170</td>\n",
       "      <td>5357</td>\n",
       "      <td>0</td>\n",
       "      <td>0</td>\n",
       "    </tr>\n",
       "  </tbody>\n",
       "</table>\n",
       "<p>208600 rows × 6 columns</p>\n",
       "</div>"
      ],
      "text/plain": [
       "              Date      Country  Total cases  Total deaths  New cases  \\\n",
       "0       2020-01-22  Afghanistan            0             0          0   \n",
       "1       2020-01-23  Afghanistan            0             0          0   \n",
       "2       2020-01-24  Afghanistan            0             0          0   \n",
       "3       2020-01-25  Afghanistan            0             0          0   \n",
       "4       2020-01-26  Afghanistan            0             0          0   \n",
       "...            ...          ...          ...           ...        ...   \n",
       "208595  2022-01-31     Zimbabwe       229666          5338        206   \n",
       "208596  2022-02-01     Zimbabwe       229851          5350        185   \n",
       "208597  2022-02-02     Zimbabwe       230012          5352        161   \n",
       "208598  2022-02-03     Zimbabwe       230170          5357        158   \n",
       "208599  2022-02-04     Zimbabwe       230170          5357          0   \n",
       "\n",
       "        New deaths  \n",
       "0                0  \n",
       "1                0  \n",
       "2                0  \n",
       "3                0  \n",
       "4                0  \n",
       "...            ...  \n",
       "208595           1  \n",
       "208596          12  \n",
       "208597           2  \n",
       "208598           5  \n",
       "208599           0  \n",
       "\n",
       "[208600 rows x 6 columns]"
      ]
     },
     "execution_count": 4,
     "metadata": {},
     "output_type": "execute_result"
    }
   ],
   "source": [
    "covidData"
   ]
  },
  {
   "cell_type": "code",
   "execution_count": 5,
   "metadata": {},
   "outputs": [
    {
     "data": {
      "text/plain": [
       "2"
      ]
     },
     "execution_count": 5,
     "metadata": {},
     "output_type": "execute_result"
    }
   ],
   "source": [
    "covidData.ndim"
   ]
  },
  {
   "cell_type": "code",
   "execution_count": 6,
   "metadata": {},
   "outputs": [
    {
     "data": {
      "text/plain": [
       "Date            0\n",
       "Country         0\n",
       "Total cases     0\n",
       "Total deaths    0\n",
       "New cases       0\n",
       "New deaths      0\n",
       "dtype: int64"
      ]
     },
     "execution_count": 6,
     "metadata": {},
     "output_type": "execute_result"
    }
   ],
   "source": [
    "covidData.isnull().sum()"
   ]
  },
  {
   "cell_type": "code",
   "execution_count": 7,
   "metadata": {},
   "outputs": [
    {
     "data": {
      "text/plain": [
       "1251600"
      ]
     },
     "execution_count": 7,
     "metadata": {},
     "output_type": "execute_result"
    }
   ],
   "source": [
    "covidData.size"
   ]
  },
  {
   "cell_type": "code",
   "execution_count": 9,
   "metadata": {},
   "outputs": [
    {
     "data": {
      "text/plain": [
       "(208600, 6)"
      ]
     },
     "execution_count": 9,
     "metadata": {},
     "output_type": "execute_result"
    }
   ],
   "source": [
    "covidData.shape"
   ]
  },
  {
   "cell_type": "code",
   "execution_count": 10,
   "metadata": {},
   "outputs": [
    {
     "name": "stdout",
     "output_type": "stream",
     "text": [
      "<class 'pandas.core.frame.DataFrame'>\n",
      "RangeIndex: 208600 entries, 0 to 208599\n",
      "Data columns (total 6 columns):\n",
      " #   Column        Non-Null Count   Dtype \n",
      "---  ------        --------------   ----- \n",
      " 0   Date          208600 non-null  object\n",
      " 1   Country       208600 non-null  object\n",
      " 2   Total cases   208600 non-null  int64 \n",
      " 3   Total deaths  208600 non-null  int64 \n",
      " 4   New cases     208600 non-null  int64 \n",
      " 5   New deaths    208600 non-null  int64 \n",
      "dtypes: int64(4), object(2)\n",
      "memory usage: 9.5+ MB\n"
     ]
    }
   ],
   "source": [
    "covidData.info()"
   ]
  },
  {
   "cell_type": "code",
   "execution_count": 14,
   "metadata": {},
   "outputs": [
    {
     "data": {
      "text/html": [
       "<div>\n",
       "<style scoped>\n",
       "    .dataframe tbody tr th:only-of-type {\n",
       "        vertical-align: middle;\n",
       "    }\n",
       "\n",
       "    .dataframe tbody tr th {\n",
       "        vertical-align: top;\n",
       "    }\n",
       "\n",
       "    .dataframe thead th {\n",
       "        text-align: right;\n",
       "    }\n",
       "</style>\n",
       "<table border=\"1\" class=\"dataframe\">\n",
       "  <thead>\n",
       "    <tr style=\"text-align: right;\">\n",
       "      <th></th>\n",
       "      <th>Total cases</th>\n",
       "      <th>Total deaths</th>\n",
       "      <th>New cases</th>\n",
       "      <th>New deaths</th>\n",
       "    </tr>\n",
       "  </thead>\n",
       "  <tbody>\n",
       "    <tr>\n",
       "      <th>count</th>\n",
       "      <td>2.086000e+05</td>\n",
       "      <td>208600.000000</td>\n",
       "      <td>2.086000e+05</td>\n",
       "      <td>208600.000000</td>\n",
       "    </tr>\n",
       "    <tr>\n",
       "      <th>mean</th>\n",
       "      <td>4.149234e+05</td>\n",
       "      <td>8802.100594</td>\n",
       "      <td>1.879969e+03</td>\n",
       "      <td>27.515168</td>\n",
       "    </tr>\n",
       "    <tr>\n",
       "      <th>std</th>\n",
       "      <td>2.477202e+06</td>\n",
       "      <td>45407.685195</td>\n",
       "      <td>1.485543e+04</td>\n",
       "      <td>157.384942</td>\n",
       "    </tr>\n",
       "    <tr>\n",
       "      <th>min</th>\n",
       "      <td>0.000000e+00</td>\n",
       "      <td>0.000000</td>\n",
       "      <td>0.000000e+00</td>\n",
       "      <td>0.000000</td>\n",
       "    </tr>\n",
       "    <tr>\n",
       "      <th>25%</th>\n",
       "      <td>2.140000e+02</td>\n",
       "      <td>2.000000</td>\n",
       "      <td>0.000000e+00</td>\n",
       "      <td>0.000000</td>\n",
       "    </tr>\n",
       "    <tr>\n",
       "      <th>50%</th>\n",
       "      <td>4.396000e+03</td>\n",
       "      <td>63.000000</td>\n",
       "      <td>7.000000e+00</td>\n",
       "      <td>0.000000</td>\n",
       "    </tr>\n",
       "    <tr>\n",
       "      <th>75%</th>\n",
       "      <td>8.658075e+04</td>\n",
       "      <td>1474.000000</td>\n",
       "      <td>3.200000e+02</td>\n",
       "      <td>4.000000</td>\n",
       "    </tr>\n",
       "    <tr>\n",
       "      <th>max</th>\n",
       "      <td>7.635404e+07</td>\n",
       "      <td>901391.000000</td>\n",
       "      <td>1.369637e+06</td>\n",
       "      <td>8786.000000</td>\n",
       "    </tr>\n",
       "  </tbody>\n",
       "</table>\n",
       "</div>"
      ],
      "text/plain": [
       "        Total cases   Total deaths     New cases     New deaths\n",
       "count  2.086000e+05  208600.000000  2.086000e+05  208600.000000\n",
       "mean   4.149234e+05    8802.100594  1.879969e+03      27.515168\n",
       "std    2.477202e+06   45407.685195  1.485543e+04     157.384942\n",
       "min    0.000000e+00       0.000000  0.000000e+00       0.000000\n",
       "25%    2.140000e+02       2.000000  0.000000e+00       0.000000\n",
       "50%    4.396000e+03      63.000000  7.000000e+00       0.000000\n",
       "75%    8.658075e+04    1474.000000  3.200000e+02       4.000000\n",
       "max    7.635404e+07  901391.000000  1.369637e+06    8786.000000"
      ]
     },
     "execution_count": 14,
     "metadata": {},
     "output_type": "execute_result"
    }
   ],
   "source": [
    "covidData.describe()"
   ]
  },
  {
   "cell_type": "code",
   "execution_count": 13,
   "metadata": {},
   "outputs": [],
   "source": [
    "## The data set has 208600 rows and 6 columns\n",
    "## its a 2 dimentional data\n",
    "## There are no null/empty fields\n",
    "## There are three types of data sets ---- integers, strings, data(if its classified)\n",
    "## else there are only two ---- integers and objects"
   ]
  },
  {
   "cell_type": "code",
   "execution_count": 18,
   "metadata": {},
   "outputs": [
    {
     "data": {
      "text/plain": [
       "Country\n",
       "Afghanistan    745\n",
       "Albania        745\n",
       "Alberta        745\n",
       "Algeria        745\n",
       "Andorra        745\n",
       "              ... \n",
       "Yukon          745\n",
       "Yunnan         745\n",
       "Zambia         745\n",
       "Zhejiang       745\n",
       "Zimbabwe       745\n",
       "Length: 279, dtype: int64"
      ]
     },
     "execution_count": 18,
     "metadata": {},
     "output_type": "execute_result"
    }
   ],
   "source": [
    "covidData.groupby('Country').size()"
   ]
  },
  {
   "cell_type": "code",
   "execution_count": 19,
   "metadata": {},
   "outputs": [],
   "source": [
    "## there are 279 countries in the data sets"
   ]
  },
  {
   "cell_type": "code",
   "execution_count": 21,
   "metadata": {},
   "outputs": [
    {
     "data": {
      "text/plain": [
       "<AxesSubplot:xlabel='Country', ylabel='Total cases'>"
      ]
     },
     "execution_count": 21,
     "metadata": {},
     "output_type": "execute_result"
    },
    {
     "data": {
      "image/png": "[encoded data removed]",
      "text/plain": [
       "<Figure size 432x288 with 1 Axes>"
      ]
     },
     "metadata": {
      "needs_background": "light"
     },
     "output_type": "display_data"
    }
   ],
   "source": [
    "sns.barplot(x='Country',y='Total cases', data=covidData)"
   ]
  },
  {
   "cell_type": "code",
   "execution_count": 22,
   "metadata": {},
   "outputs": [],
   "source": [
    "#africa\n",
    "#north america\n",
    "#south america\n",
    "#europe\n",
    "#asia\n",
    "#austrialia\n",
    "#antarctica"
   ]
  },
  {
   "cell_type": "code",
   "execution_count": 25,
   "metadata": {},
   "outputs": [
    {
     "ename": "NameError",
     "evalue": "name 'Algeria' is not defined",
     "output_type": "error",
     "traceback": [
      "\u001b[0;31m---------------------------------------------------------------------------\u001b[0m",
      "\u001b[0;31mNameError\u001b[0m                                 Traceback (most recent call last)",
      "\u001b[0;32m<ipython-input-25-2dde807905a4>\u001b[0m in \u001b[0;36m<module>\u001b[0;34m\u001b[0m\n\u001b[1;32m      1\u001b[0m \u001b[0;31m#africa\u001b[0m\u001b[0;34m\u001b[0m\u001b[0;34m\u001b[0m\u001b[0;34m\u001b[0m\u001b[0m\n\u001b[0;32m----> 2\u001b[0;31m \u001b[0mAlgeria\u001b[0m\u001b[0;34m\u001b[0m\u001b[0;34m\u001b[0m\u001b[0m\n\u001b[0m",
      "\u001b[0;31mNameError\u001b[0m: name 'Algeria' is not defined"
     ]
    }
   ],
   "source": [
    "#africa\n",
    "Algeria\n",
    "Egypt\n",
    "Liberia\n",
    "Libya\n",
    "Morocco\n",
    "Sudan\n",
    "Tunisia\n",
    "Benin\n",
    "Burkina Faso\n",
    "Cote d'Ivoire\n",
    "Gambia\n",
    "Ghana\n",
    "Guinea\n",
    "Guinea-Bissau\n",
    "Mali\n",
    "Mauritania\n",
    "Niger\n",
    "Nigeria\n",
    "Saint Helena, Ascension and Tristan da Cunha\n",
    "Senegal\n",
    "Sierra Leone\n",
    "Togo\n",
    "Angola\n",
    "Cameroon\n",
    "Central African Republic\n",
    "Chad\n",
    "Congo (Brazzaville)\n",
    "Congo (Kinshasa)\n",
    "Equatorial Guinea\n",
    "Gabon\n",
    "Sao Tome and Principe\n",
    "Burundi\n",
    "Comoros\n",
    "Djibouti\n",
    "Eritrea\n",
    "Ethiopia\n",
    "Kenya\n",
    "Madagascar\n",
    "Malawi\n",
    "Mauritius\n",
    "Mozambique\n",
    "Reunion\n",
    "Rwanda"
   ]
  },
  {
   "cell_type": "code",
   "execution_count": null,
   "metadata": {},
   "outputs": [],
   "source": [
    "#north america"
   ]
  },
  {
   "cell_type": "code",
   "execution_count": null,
   "metadata": {},
   "outputs": [],
   "source": [
    "#south america"
   ]
  },
  {
   "cell_type": "code",
   "execution_count": null,
   "metadata": {},
   "outputs": [],
   "source": [
    "#europe"
   ]
  },
  {
   "cell_type": "code",
   "execution_count": null,
   "metadata": {},
   "outputs": [],
   "source": [
    "#asia"
   ]
  },
  {
   "cell_type": "code",
   "execution_count": null,
   "metadata": {},
   "outputs": [],
   "source": [
    "#austrialia"
   ]
  },
  {
   "cell_type": "code",
   "execution_count": null,
   "metadata": {},
   "outputs": [],
   "source": [
    "#antarctica"
   ]
  },
  {
   "cell_type": "code",
   "execution_count": 24,
   "metadata": {},
   "outputs": [
    {
     "ename": "SyntaxError",
     "evalue": "invalid syntax (<ipython-input-24-c32397d15cd2>, line 13)",
     "output_type": "error",
     "traceback": [
      "\u001b[0;36m  File \u001b[0;32m\"<ipython-input-24-c32397d15cd2>\"\u001b[0;36m, line \u001b[0;32m13\u001b[0m\n\u001b[0;31m    Australian Capital Territory\u001b[0m\n\u001b[0m               ^\u001b[0m\n\u001b[0;31mSyntaxError\u001b[0m\u001b[0;31m:\u001b[0m invalid syntax\n"
     ]
    }
   ],
   "source": [
    "Afghanistan\n",
    "Albania\n",
    "Alberta\n",
    "\n",
    "Andorra\n",
    "\n",
    "Anguilla\n",
    "Anhui\n",
    "Antigua and Barbuda\n",
    "Argentina\n",
    "Armenia\n",
    "Aruba\n",
    "Australian Capital Territory\n",
    "Austria\n",
    "Azerbaijan\n",
    "Bahamas\n",
    "Bahrain\n",
    "Bangladesh\n",
    "Barbados\n",
    "Beijing\n",
    "Belarus\n",
    "Belgium\n",
    "Belize\n",
    "\n",
    "Bermuda\n",
    "Bhutan\n",
    "Bolivia\n",
    "Bonaire, Sint Eustatius and Saba\n",
    "Bosnia and Herzegovina\n",
    "Botswana\n",
    "Brazil\n",
    "British Columbia\n",
    "British Virgin Islands\n",
    "Brunei\n",
    "Bulgaria\n",
    "\n",
    "Burma\n",
    "\n",
    "Cabo Verde\n",
    "Cambodia\n",
    "\n",
    "Cayman Islands\n",
    "\n",
    "Channel Islands\n",
    "Chile\n",
    "Chongqing\n",
    "Colombia\n",
    "\n",
    "\n",
    "Cook Islands\n",
    "Costa Rica\n",
    "\n",
    "Croatia\n",
    "Cuba\n",
    "Curacao\n",
    "Cyprus\n",
    "Czechia\n",
    "Denmark\n",
    "Diamond Princess\n",
    "\n",
    "Dominica\n",
    "Dominican Republic\n",
    "Ecuador\n",
    "\n",
    "El Salvador\n",
    "\n",
    "\n",
    "Estonia\n",
    "Eswatini\n",
    "\n",
    "Falkland Islands (Malvinas)\n",
    "Faroe Islands\n",
    "Fiji\n",
    "Finland\n",
    "France\n",
    "French Guiana\n",
    "French Polynesia\n",
    "Fujian\n",
    "\n",
    "\n",
    "Gansu\n",
    "Georgia\n",
    "Germany\n",
    "\n",
    "Gibraltar\n",
    "Grand Princess\n",
    "Greece\n",
    "Greenland\n",
    "Grenada\n",
    "Guadeloupe\n",
    "Guangdong\n",
    "Guangxi\n",
    "Guatemala\n",
    "\n",
    "Guizhou\n",
    "Guyana\n",
    "Hainan\n",
    "Haiti\n",
    "Hebei\n",
    "Heilongjiang\n",
    "Henan\n",
    "Holy See\n",
    "Honduras\n",
    "Hong Kong\n",
    "Hubei\n",
    "Hunan\n",
    "Hungary\n",
    "Iceland\n",
    "India\n",
    "Indonesia\n",
    "Inner Mongolia\n",
    "Iran\n",
    "Iraq\n",
    "Ireland\n",
    "Isle of Man\n",
    "Israel\n",
    "Italy\n",
    "Jamaica\n",
    "Japan\n",
    "Jiangsu\n",
    "Jiangxi\n",
    "Jilin\n",
    "Jordan\n",
    "Kazakhstan\n",
    "\n",
    "Kiribati\n",
    "Korea, South\n",
    "Kosovo\n",
    "Kuwait\n",
    "Kyrgyzstan\n",
    "Laos\n",
    "Latvia\n",
    "Lebanon\n",
    "Lesotho\n",
    "Liaoning\n",
    "\n",
    "Liechtenstein\n",
    "Lithuania\n",
    "Luxembourg\n",
    "Macau\n",
    "\n",
    "Malaysia\n",
    "Maldives\n",
    "\n",
    "Malta\n",
    "Manitoba\n",
    "Marshall Islands\n",
    "Martinique\n",
    "\n",
    "\n",
    "Mayotte\n",
    "Mexico\n",
    "Micronesia\n",
    "Moldova\n",
    "Monaco\n",
    "Mongolia\n",
    "Montenegro\n",
    "Montserrat\n",
    "\n",
    "\n",
    "MS Zaandam\n",
    "Namibia\n",
    "Nepal\n",
    "Netherlands\n",
    "New Brunswick\n",
    "New Caledonia\n",
    "New South Wales\n",
    "New Zealand\n",
    "Newfoundland and Labrador\n",
    "Nicaragua\n",
    "\n",
    "Ningxia\n",
    "North Macedonia\n",
    "Northern Territory\n",
    "Northwest Territories\n",
    "Norway\n",
    "Nova Scotia\n",
    "Nunavut\n",
    "Oman\n",
    "Ontario\n",
    "Pakistan\n",
    "Palau\n",
    "Panama\n",
    "Papua New Guinea\n",
    "Paraguay\n",
    "Peru\n",
    "Philippines\n",
    "Poland\n",
    "Portugal\n",
    "Prince Edward Island\n",
    "Qatar\n",
    "Qinghai\n",
    "Quebec\n",
    "Queensland\n",
    "Repatriated Travellers\n",
    "\n",
    "Romania\n",
    "Russia\n",
    "\n",
    "Saint Barthelemy\n",
    "\n",
    "Saint Kitts and Nevis\n",
    "Saint Lucia\n",
    "Saint Pierre and Miquelon\n",
    "Saint Vincent and the Grenadines\n",
    "Samoa\n",
    "San Marino\n",
    "\n",
    "Saskatchewan\n",
    "Saudi Arabia\n",
    "\n",
    "Serbia\n",
    "Seychelles\n",
    "Shaanxi\n",
    "Shandong\n",
    "Shanghai\n",
    "Shanxi\n",
    "Sichuan\n",
    "\n",
    "Singapore\n",
    "Sint Maarten\n",
    "Slovakia\n",
    "Slovenia\n",
    "Solomon Islands\n",
    "Somalia\n",
    "South Africa\n",
    "South Australia\n",
    "South Sudan\n",
    "Spain\n",
    "Sri Lanka\n",
    "St Martin\n",
    "\n",
    "Summer Olympics 2020\n",
    "Suriname\n",
    "Sweden\n",
    "Switzerland\n",
    "Syria\n",
    "Taiwan*\n",
    "Tajikistan\n",
    "Tanzania\n",
    "Tasmania\n",
    "Thailand\n",
    "Tianjin\n",
    "Tibet\n",
    "Timor-Leste\n",
    "\n",
    "Tonga\n",
    "Trinidad and Tobago\n",
    "\n",
    "Turkey\n",
    "Turks and Caicos Islands\n",
    "Uganda\n",
    "Ukraine\n",
    "United Arab Emirates\n",
    "United Kingdom\n",
    "Unknown\n",
    "Uruguay\n",
    "US\n",
    "Uzbekistan\n",
    "Vanuatu\n",
    "Venezuela\n",
    "Victoria\n",
    "Vietnam\n",
    "Wallis and Futuna\n",
    "West Bank and Gaza\n",
    "Western Australia\n",
    "Xinjiang\n",
    "Yemen\n",
    "Yukon\n",
    "Yunnan\n",
    "Zambia\n",
    "Zhejiang\n",
    "Zimbabwe"
   ]
  },
  {
   "cell_type": "code",
   "execution_count": null,
   "metadata": {},
   "outputs": [],
   "source": []
  }
 ],
 "metadata": {
  "kernelspec": {
   "display_name": "Python 3",
   "language": "python",
   "name": "python3"
  },
  "language_info": {
   "codemirror_mode": {
    "name": "ipython",
    "version": 3
   },
   "file_extension": ".py",
   "mimetype": "text/x-python",
   "name": "python",
   "nbconvert_exporter": "python",
   "pygments_lexer": "ipython3",
   "version": "3.8.5"
  }
 },
 "nbformat": 4,
 "nbformat_minor": 4
}
