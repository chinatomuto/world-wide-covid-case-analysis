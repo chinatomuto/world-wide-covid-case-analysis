{
 "cells": [
  {
   "cell_type": "code",
   "execution_count": 12,
   "metadata": {},
   "outputs": [],
   "source": [
    "## The data set was obtained from kaggle.com\n",
    "## Covid-19 worldwide data by akash kunwar, obtained on the 23/02/2022"
   ]
  },
  {
   "cell_type": "markdown",
   "metadata": {},
   "source": [
    "## Importing the data set"
   ]
  },
  {
   "cell_type": "code",
   "execution_count": 20,
   "metadata": {},
   "outputs": [],
   "source": [
    "import pandas as pd\n",
    "import seaborn as sns"
   ]
  },
  {
   "cell_type": "code",
   "execution_count": 3,
   "metadata": {},
   "outputs": [],
   "source": [
    "covidData = pd.read_csv('Covid data.csv')"
   ]
  },
  {
   "cell_type": "code",
   "execution_count": 4,
   "metadata": {},
   "outputs": [
    {
     "data": {
      "text/html": [
       "<div>\n",
       "<style scoped>\n",
       "    .dataframe tbody tr th:only-of-type {\n",
       "        vertical-align: middle;\n",
       "    }\n",
       "\n",
       "    .dataframe tbody tr th {\n",
       "        vertical-align: top;\n",
       "    }\n",
       "\n",
       "    .dataframe thead th {\n",
       "        text-align: right;\n",
       "    }\n",
       "</style>\n",
       "<table border=\"1\" class=\"dataframe\">\n",
       "  <thead>\n",
       "    <tr style=\"text-align: right;\">\n",
       "      <th></th>\n",
       "      <th>Date</th>\n",
       "      <th>Country</th>\n",
       "      <th>Total cases</th>\n",
       "      <th>Total deaths</th>\n",
       "      <th>New cases</th>\n",
       "      <th>New deaths</th>\n",
       "    </tr>\n",
       "  </thead>\n",
       "  <tbody>\n",
       "    <tr>\n",
       "      <th>0</th>\n",
       "      <td>2020-01-22</td>\n",
       "      <td>Afghanistan</td>\n",
       "      <td>0</td>\n",
       "      <td>0</td>\n",
       "      <td>0</td>\n",
       "      <td>0</td>\n",
       "    </tr>\n",
       "    <tr>\n",
       "      <th>1</th>\n",
       "      <td>2020-01-23</td>\n",
       "      <td>Afghanistan</td>\n",
       "      <td>0</td>\n",
       "      <td>0</td>\n",
       "      <td>0</td>\n",
       "      <td>0</td>\n",
       "    </tr>\n",
       "    <tr>\n",
       "      <th>2</th>\n",
       "      <td>2020-01-24</td>\n",
       "      <td>Afghanistan</td>\n",
       "      <td>0</td>\n",
       "      <td>0</td>\n",
       "      <td>0</td>\n",
       "      <td>0</td>\n",
       "    </tr>\n",
       "    <tr>\n",
       "      <th>3</th>\n",
       "      <td>2020-01-25</td>\n",
       "      <td>Afghanistan</td>\n",
       "      <td>0</td>\n",
       "      <td>0</td>\n",
       "      <td>0</td>\n",
       "      <td>0</td>\n",
       "    </tr>\n",
       "    <tr>\n",
       "      <th>4</th>\n",
       "      <td>2020-01-26</td>\n",
       "      <td>Afghanistan</td>\n",
       "      <td>0</td>\n",
       "      <td>0</td>\n",
       "      <td>0</td>\n",
       "      <td>0</td>\n",
       "    </tr>\n",
       "    <tr>\n",
       "      <th>...</th>\n",
       "      <td>...</td>\n",
       "      <td>...</td>\n",
       "      <td>...</td>\n",
       "      <td>...</td>\n",
       "      <td>...</td>\n",
       "      <td>...</td>\n",
       "    </tr>\n",
       "    <tr>\n",
       "      <th>208595</th>\n",
       "      <td>2022-01-31</td>\n",
       "      <td>Zimbabwe</td>\n",
       "      <td>229666</td>\n",
       "      <td>5338</td>\n",
       "      <td>206</td>\n",
       "      <td>1</td>\n",
       "    </tr>\n",
       "    <tr>\n",
       "      <th>208596</th>\n",
       "      <td>2022-02-01</td>\n",
       "      <td>Zimbabwe</td>\n",
       "      <td>229851</td>\n",
       "      <td>5350</td>\n",
       "      <td>185</td>\n",
       "      <td>12</td>\n",
       "    </tr>\n",
       "    <tr>\n",
       "      <th>208597</th>\n",
       "      <td>2022-02-02</td>\n",
       "      <td>Zimbabwe</td>\n",
       "      <td>230012</td>\n",
       "      <td>5352</td>\n",
       "      <td>161</td>\n",
       "      <td>2</td>\n",
       "    </tr>\n",
       "    <tr>\n",
       "      <th>208598</th>\n",
       "      <td>2022-02-03</td>\n",
       "      <td>Zimbabwe</td>\n",
       "      <td>230170</td>\n",
       "      <td>5357</td>\n",
       "      <td>158</td>\n",
       "      <td>5</td>\n",
       "    </tr>\n",
       "    <tr>\n",
       "      <th>208599</th>\n",
       "      <td>2022-02-04</td>\n",
       "      <td>Zimbabwe</td>\n",
       "      <td>230170</td>\n",
       "      <td>5357</td>\n",
       "      <td>0</td>\n",
       "      <td>0</td>\n",
       "    </tr>\n",
       "  </tbody>\n",
       "</table>\n",
       "<p>208600 rows × 6 columns</p>\n",
       "</div>"
      ],
      "text/plain": [
       "              Date      Country  Total cases  Total deaths  New cases  \\\n",
       "0       2020-01-22  Afghanistan            0             0          0   \n",
       "1       2020-01-23  Afghanistan            0             0          0   \n",
       "2       2020-01-24  Afghanistan            0             0          0   \n",
       "3       2020-01-25  Afghanistan            0             0          0   \n",
       "4       2020-01-26  Afghanistan            0             0          0   \n",
       "...            ...          ...          ...           ...        ...   \n",
       "208595  2022-01-31     Zimbabwe       229666          5338        206   \n",
       "208596  2022-02-01     Zimbabwe       229851          5350        185   \n",
       "208597  2022-02-02     Zimbabwe       230012          5352        161   \n",
       "208598  2022-02-03     Zimbabwe       230170          5357        158   \n",
       "208599  2022-02-04     Zimbabwe       230170          5357          0   \n",
       "\n",
       "        New deaths  \n",
       "0                0  \n",
       "1                0  \n",
       "2                0  \n",
       "3                0  \n",
       "4                0  \n",
       "...            ...  \n",
       "208595           1  \n",
       "208596          12  \n",
       "208597           2  \n",
       "208598           5  \n",
       "208599           0  \n",
       "\n",
       "[208600 rows x 6 columns]"
      ]
     },
     "execution_count": 4,
     "metadata": {},
     "output_type": "execute_result"
    }
   ],
   "source": [
    "covidData"
   ]
  },
  {
   "cell_type": "code",
   "execution_count": 5,
   "metadata": {},
   "outputs": [
    {
     "data": {
      "text/plain": [
       "2"
      ]
     },
     "execution_count": 5,
     "metadata": {},
     "output_type": "execute_result"
    }
   ],
   "source": [
    "covidData.ndim"
   ]
  },
  {
   "cell_type": "code",
   "execution_count": 6,
   "metadata": {},
   "outputs": [
    {
     "data": {
      "text/plain": [
       "Date            0\n",
       "Country         0\n",
       "Total cases     0\n",
       "Total deaths    0\n",
       "New cases       0\n",
       "New deaths      0\n",
       "dtype: int64"
      ]
     },
     "execution_count": 6,
     "metadata": {},
     "output_type": "execute_result"
    }
   ],
   "source": [
    "covidData.isnull().sum()"
   ]
  },
  {
   "cell_type": "code",
   "execution_count": 7,
   "metadata": {},
   "outputs": [
    {
     "data": {
      "text/plain": [
       "1251600"
      ]
     },
     "execution_count": 7,
     "metadata": {},
     "output_type": "execute_result"
    }
   ],
   "source": [
    "covidData.size"
   ]
  },
  {
   "cell_type": "code",
   "execution_count": 9,
   "metadata": {},
   "outputs": [
    {
     "data": {
      "text/plain": [
       "(208600, 6)"
      ]
     },
     "execution_count": 9,
     "metadata": {},
     "output_type": "execute_result"
    }
   ],
   "source": [
    "covidData.shape"
   ]
  },
  {
   "cell_type": "code",
   "execution_count": 10,
   "metadata": {},
   "outputs": [
    {
     "name": "stdout",
     "output_type": "stream",
     "text": [
      "<class 'pandas.core.frame.DataFrame'>\n",
      "RangeIndex: 208600 entries, 0 to 208599\n",
      "Data columns (total 6 columns):\n",
      " #   Column        Non-Null Count   Dtype \n",
      "---  ------        --------------   ----- \n",
      " 0   Date          208600 non-null  object\n",
      " 1   Country       208600 non-null  object\n",
      " 2   Total cases   208600 non-null  int64 \n",
      " 3   Total deaths  208600 non-null  int64 \n",
      " 4   New cases     208600 non-null  int64 \n",
      " 5   New deaths    208600 non-null  int64 \n",
      "dtypes: int64(4), object(2)\n",
      "memory usage: 9.5+ MB\n"
     ]
    }
   ],
   "source": [
    "covidData.info()"
   ]
  },
  {
   "cell_type": "code",
   "execution_count": 14,
   "metadata": {},
   "outputs": [
    {
     "data": {
      "text/html": [
       "<div>\n",
       "<style scoped>\n",
       "    .dataframe tbody tr th:only-of-type {\n",
       "        vertical-align: middle;\n",
       "    }\n",
       "\n",
       "    .dataframe tbody tr th {\n",
       "        vertical-align: top;\n",
       "    }\n",
       "\n",
       "    .dataframe thead th {\n",
       "        text-align: right;\n",
       "    }\n",
       "</style>\n",
       "<table border=\"1\" class=\"dataframe\">\n",
       "  <thead>\n",
       "    <tr style=\"text-align: right;\">\n",
       "      <th></th>\n",
       "      <th>Total cases</th>\n",
       "      <th>Total deaths</th>\n",
       "      <th>New cases</th>\n",
       "      <th>New deaths</th>\n",
       "    </tr>\n",
       "  </thead>\n",
       "  <tbody>\n",
       "    <tr>\n",
       "      <th>count</th>\n",
       "      <td>2.086000e+05</td>\n",
       "      <td>208600.000000</td>\n",
       "      <td>2.086000e+05</td>\n",
       "      <td>208600.000000</td>\n",
       "    </tr>\n",
       "    <tr>\n",
       "      <th>mean</th>\n",
       "      <td>4.149234e+05</td>\n",
       "      <td>8802.100594</td>\n",
       "      <td>1.879969e+03</td>\n",
       "      <td>27.515168</td>\n",
       "    </tr>\n",
       "    <tr>\n",
       "      <th>std</th>\n",
       "      <td>2.477202e+06</td>\n",
       "      <td>45407.685195</td>\n",
       "      <td>1.485543e+04</td>\n",
       "      <td>157.384942</td>\n",
       "    </tr>\n",
       "    <tr>\n",
       "      <th>min</th>\n",
       "      <td>0.000000e+00</td>\n",
       "      <td>0.000000</td>\n",
       "      <td>0.000000e+00</td>\n",
       "      <td>0.000000</td>\n",
       "    </tr>\n",
       "    <tr>\n",
       "      <th>25%</th>\n",
       "      <td>2.140000e+02</td>\n",
       "      <td>2.000000</td>\n",
       "      <td>0.000000e+00</td>\n",
       "      <td>0.000000</td>\n",
       "    </tr>\n",
       "    <tr>\n",
       "      <th>50%</th>\n",
       "      <td>4.396000e+03</td>\n",
       "      <td>63.000000</td>\n",
       "      <td>7.000000e+00</td>\n",
       "      <td>0.000000</td>\n",
       "    </tr>\n",
       "    <tr>\n",
       "      <th>75%</th>\n",
       "      <td>8.658075e+04</td>\n",
       "      <td>1474.000000</td>\n",
       "      <td>3.200000e+02</td>\n",
       "      <td>4.000000</td>\n",
       "    </tr>\n",
       "    <tr>\n",
       "      <th>max</th>\n",
       "      <td>7.635404e+07</td>\n",
       "      <td>901391.000000</td>\n",
       "      <td>1.369637e+06</td>\n",
       "      <td>8786.000000</td>\n",
       "    </tr>\n",
       "  </tbody>\n",
       "</table>\n",
       "</div>"
      ],
      "text/plain": [
       "        Total cases   Total deaths     New cases     New deaths\n",
       "count  2.086000e+05  208600.000000  2.086000e+05  208600.000000\n",
       "mean   4.149234e+05    8802.100594  1.879969e+03      27.515168\n",
       "std    2.477202e+06   45407.685195  1.485543e+04     157.384942\n",
       "min    0.000000e+00       0.000000  0.000000e+00       0.000000\n",
       "25%    2.140000e+02       2.000000  0.000000e+00       0.000000\n",
       "50%    4.396000e+03      63.000000  7.000000e+00       0.000000\n",
       "75%    8.658075e+04    1474.000000  3.200000e+02       4.000000\n",
       "max    7.635404e+07  901391.000000  1.369637e+06    8786.000000"
      ]
     },
     "execution_count": 14,
     "metadata": {},
     "output_type": "execute_result"
    }
   ],
   "source": [
    "covidData.describe()"
   ]
  },
  {
   "cell_type": "code",
   "execution_count": 13,
   "metadata": {},
   "outputs": [],
   "source": [
    "## The data set has 208600 rows and 6 columns\n",
    "## its a 2 dimentional data\n",
    "## There are no null/empty fields\n",
    "## There are three types of data sets ---- integers, strings, data(if its classified)\n",
    "## else there are only two ---- integers and objects"
   ]
  },
  {
   "cell_type": "code",
   "execution_count": 18,
   "metadata": {},
   "outputs": [
    {
     "data": {
      "text/plain": [
       "Country\n",
       "Afghanistan    745\n",
       "Albania        745\n",
       "Alberta        745\n",
       "Algeria        745\n",
       "Andorra        745\n",
       "              ... \n",
       "Yukon          745\n",
       "Yunnan         745\n",
       "Zambia         745\n",
       "Zhejiang       745\n",
       "Zimbabwe       745\n",
       "Length: 279, dtype: int64"
      ]
     },
     "execution_count": 18,
     "metadata": {},
     "output_type": "execute_result"
    }
   ],
   "source": [
    "covidData.groupby('Country').size()"
   ]
  },
  {
   "cell_type": "code",
   "execution_count": 57,
   "metadata": {},
   "outputs": [],
   "source": [
    "## there are 279 countries sets in the data sets\n",
    "## there six which are not countries which will make the orginal country count to be 273\n",
    "## out of the six non countries 3 of them are cruise ships, 1 is an event and the, 1 is for travellers and the other\n",
    "## unknown\n",
    "## the unknown country data will be invalid in our research"
   ]
  },
  {
   "cell_type": "code",
   "execution_count": 21,
   "metadata": {},
   "outputs": [
    {
     "data": {
      "text/plain": [
       "<AxesSubplot:xlabel='Country', ylabel='Total cases'>"
      ]
     },
     "execution_count": 21,
     "metadata": {},
     "output_type": "execute_result"
    },
    {
     "data": {
      "image/png": "[encoded data removed]",
      "text/plain": [
       "<Figure size 432x288 with 1 Axes>"
      ]
     },
     "metadata": {
      "needs_background": "light"
     },
     "output_type": "display_data"
    }
   ],
   "source": [
    "sns.barplot(x='Country',y='Total cases', data=covidData)"
   ]
  },
  {
   "cell_type": "code",
   "execution_count": 22,
   "metadata": {},
   "outputs": [],
   "source": [
    "#africa\n",
    "#north america\n",
    "#south america\n",
    "#europe\n",
    "#asia\n",
    "#austrialia\n",
    "#antarctica"
   ]
  },
  {
   "cell_type": "markdown",
   "metadata": {},
   "source": [
    "#africa----\n",
    "Algeria,\n",
    "Egypt,\n",
    "Liberia,\n",
    "Libya,\n",
    "Morocco,\n",
    "Sudan,\n",
    "Tunisia,\n",
    "Benin,\n",
    "Burkina Faso,\n",
    "Cote d'Ivoire,\n",
    "Gambia,\n",
    "Ghana,\n",
    "Guinea,\n",
    "Guinea-Bissau,\n",
    "Mali,\n",
    "Mauritania,\n",
    "Niger,\n",
    "Nigeria,\n",
    "Saint Helena, Ascension and Tristan da Cunha,\n",
    "Senegal,\n",
    "Sierra Leone,\n",
    "Togo,\n",
    "Angola,\n",
    "Cameroon,\n",
    "Central African Republic,\n",
    "Chad,\n",
    "Congo (Brazzaville),\n",
    "Congo (Kinshasa),\n",
    "Equatorial Guinea,\n",
    "Gabon,\n",
    "Sao Tome and Principe,\n",
    "Burundi,\n",
    "Comoros,\n",
    "Djibouti,\n",
    "Eritrea,\n",
    "Ethiopia,\n",
    "Kenya,\n",
    "Madagascar,\n",
    "Malawi,\n",
    "Mauritius,\n",
    "Mozambique,\n",
    "Reunion,\n",
    "Rwanda,\n",
    "Seychelles,\n",
    "Somalia,\n",
    "South Sudan,\n",
    "Tanzania,\n",
    "Uganda,\n",
    "Zambia,\n",
    "Zimbabwe,\n",
    "Botswana,\n",
    "Lesotho,\n",
    "Namibia,\n",
    "South Africa,\n",
    "Cabo Verde\n",
    "Eswatini\n",
    "Mayotte"
   ]
  },
  {
   "cell_type": "markdown",
   "metadata": {},
   "source": [
    "#america----\n",
    "Greenland\n",
    "Mexico\n",
    "US\n",
    "Anguilla\n",
    "Antigua and Barbuda\n",
    "Aruba\n",
    "Bahamas\n",
    "Barbados\n",
    "Bermuda\n",
    "British Virgin Islands\n",
    "Cayman Islands\n",
    "Cuba\n",
    "Curacao\n",
    "Dominica\n",
    "Dominican Republic\n",
    "Grenada\n",
    "Guadeloupe\n",
    "Haiti\n",
    "Jamaica\n",
    "Martinique\n",
    "Montserrat\n",
    "Saint Kitts and Nevis\n",
    "Saint Lucia\n",
    "Saint Vincent and the Grenadines\n",
    "Trinidad and Tobago\n",
    "Belize\n",
    "Costa Rica\n",
    "El Salvador\n",
    "Guatemala\n",
    "Honduras\n",
    "Nicaragua\n",
    "Panama\n",
    "Argentina\n",
    "Bolivia\n",
    "Brazil\n",
    "Chile\n",
    "Colombia\n",
    "Ecuador\n",
    "French Guiana\n",
    "Guyana\n",
    "Paraguay\n",
    "Peru\n",
    "Suriname\n",
    "Uruguay\n",
    "Venezuela\n",
    "Alberta\n",
    "Bonaire, Sint Eustatius and Saba\n",
    "British Columbia\n",
    "Falkland Islands (Malvinas)\n",
    "Manitoba\n",
    "New Brunswick\n",
    "Newfoundland and Labrador\n",
    "Northwest Territories\n",
    "Nova Scotia\n",
    "Nunavut\n",
    "Ontario\n",
    "Prince Edward Island\n",
    "Quebec\n",
    "Saint Barthelemy\n",
    "Saint Pierre and Miquelon\n",
    "Saskatchewan\n",
    "St Martin\n",
    "Turks and Caicos Islands\n",
    "Yukon"
   ]
  },
  {
   "cell_type": "markdown",
   "metadata": {},
   "source": [
    "#asia----\n",
    "Russia\n",
    "Armenia\n",
    "Azerbaijan\n",
    "Bahrain\n",
    "Cyprus\n",
    "Georgia\n",
    "Iran\n",
    "Iraq\n",
    "Israel\n",
    "Jordan\n",
    "Kuwait\n",
    "Lebanon\n",
    "Oman\n",
    "Qatar\n",
    "Saudi Arabia\n",
    "Syria\n",
    "Turkey\n",
    "United Arab Emirates\n",
    "Yemen\n",
    "Afghanistan\n",
    "Kazakhstan\n",
    "Kyrgyzstan\n",
    "Tajikistan\n",
    "Uzbekistan\n",
    "Japan\n",
    "Korea, South\n",
    "Mongolia\n",
    "Taiwan*\n",
    "Bangladesh\n",
    "Bhutan\n",
    "India\n",
    "Maldives\n",
    "Nepal\n",
    "Pakistan\n",
    "Sri Lanka\n",
    "Brunei\n",
    "Cambodia\n",
    "Indonesia\n",
    "Malaysia\n",
    "Philippines\n",
    "Singapore\n",
    "Thailand\n",
    "Timor-Leste\n",
    "Vietnam\n",
    "Anhui\n",
    "Beijing\n",
    "Burma\n",
    "Chongqing\n",
    "Fujian\n",
    "Gansu\n",
    "Guangdong\n",
    "Guangxi\n",
    "Guizhou\n",
    "Hainan\n",
    "Hebei\n",
    "Heilongjiang\n",
    "Henan\n",
    "Hong Kong\n",
    "Hubei\n",
    "Hunan\n",
    "Inner Mongolia\n",
    "Jiangsu\n",
    "Jiangxi\n",
    "Jilin\n",
    "Laos\n",
    "Liaoning\n",
    "Macau\n",
    "Ningxia\n",
    "Qinghai\n",
    "Shaanxi\n",
    "Shandong\n",
    "Shanghai\n",
    "Shanxi\n",
    "Sichuan\n",
    "Tianjin\n",
    "Tibet\n",
    "West Bank and Gaza\n",
    "Xinjiang\n",
    "Yunnan\n",
    "Zhejiang"
   ]
  },
  {
   "cell_type": "markdown",
   "metadata": {},
   "source": [
    "#austrialia----\n",
    "Australian Capital Territory\n",
    "New Zealand\n",
    "Fiji\n",
    "New Caledonia\n",
    "Papua New Guinea\n",
    "Solomon Islands\n",
    "Vanuatu\n",
    "Kiribati\n",
    "Marshall Islands\n",
    "Micronesia\n",
    "Palau\n",
    "Cook Islands\n",
    "French Polynesia\n",
    "Samoa\n",
    "Tonga\n",
    "New South Wales\n",
    "Northern Territory\n",
    "Queensland\n",
    "South Australia\n",
    "Tasmania\n",
    "Victoria\n",
    "Wallis and Futuna\n",
    "Western Australia"
   ]
  },
  {
   "cell_type": "markdown",
   "metadata": {},
   "source": [
    "#europe----\n",
    "Denmark\n",
    "Estonia\n",
    "Faroe Islands\n",
    "Finland\n",
    "Iceland\n",
    "Ireland\n",
    "Latvia\n",
    "Lithuania\n",
    "Norway\n",
    "Sweden\n",
    "United Kingdom\n",
    "Austria\n",
    "Belgium\n",
    "France\n",
    "Germany\n",
    "Liechtenstein\n",
    "Luxembourg\n",
    "Netherlands\n",
    "Switzerland\n",
    "Belarus\n",
    "Bulgaria\n",
    "Czechia\n",
    "Hungary\n",
    "Moldova\n",
    "Poland\n",
    "Romania\n",
    "Slovakia\n",
    "Ukraine\n",
    "Albania\n",
    "Andorra\n",
    "Bosnia and Herzegovina\n",
    "Croatia\n",
    "Gibraltar\n",
    "Greece\n",
    "Italy\n",
    "Kosovo\n",
    "North Macedonia\n",
    "Malta\n",
    "Monaco\n",
    "Montenegro\n",
    "Portugal\n",
    "San Marino\n",
    "Serbia\n",
    "Slovenia\n",
    "Spain\n",
    "Channel Islands\n",
    "Holy See\n",
    "Isle of Man\n",
    "Sint Maarten"
   ]
  },
  {
   "cell_type": "markdown",
   "metadata": {},
   "source": [
    "#antarctica-----"
   ]
  },
  {
   "cell_type": "markdown",
   "metadata": {},
   "source": [
    "#non continents----\n",
    "Diamond Princess//ship\n",
    "Grand Princess//ship\n",
    "MS Zaandam//ship\n",
    "Repatriated Travellers\n",
    "Summer Olympics 2020\n",
    "Unknown"
   ]
  },
  {
   "cell_type": "code",
   "execution_count": 163,
   "metadata": {},
   "outputs": [],
   "source": [
    "##eleminating non countries"
   ]
  },
  {
   "cell_type": "code",
   "execution_count": 118,
   "metadata": {},
   "outputs": [],
   "source": [
    "data = pd.read_csv(\"Covid data.csv\", index_col =\"Country\" )"
   ]
  },
  {
   "cell_type": "code",
   "execution_count": 119,
   "metadata": {},
   "outputs": [],
   "source": [
    "data.drop([\"Diamond Princess\", \"Grand Princess\", \"MS Zaandam\",\"Repatriated Travellers\",\"Summer Olympics 2020\",\"Unknown\"], inplace = True)"
   ]
  },
  {
   "cell_type": "code",
   "execution_count": 120,
   "metadata": {},
   "outputs": [
    {
     "data": {
      "text/html": [
       "<div>\n",
       "<style scoped>\n",
       "    .dataframe tbody tr th:only-of-type {\n",
       "        vertical-align: middle;\n",
       "    }\n",
       "\n",
       "    .dataframe tbody tr th {\n",
       "        vertical-align: top;\n",
       "    }\n",
       "\n",
       "    .dataframe thead th {\n",
       "        text-align: right;\n",
       "    }\n",
       "</style>\n",
       "<table border=\"1\" class=\"dataframe\">\n",
       "  <thead>\n",
       "    <tr style=\"text-align: right;\">\n",
       "      <th></th>\n",
       "      <th>Date</th>\n",
       "      <th>Total cases</th>\n",
       "      <th>Total deaths</th>\n",
       "      <th>New cases</th>\n",
       "      <th>New deaths</th>\n",
       "    </tr>\n",
       "    <tr>\n",
       "      <th>Country</th>\n",
       "      <th></th>\n",
       "      <th></th>\n",
       "      <th></th>\n",
       "      <th></th>\n",
       "      <th></th>\n",
       "    </tr>\n",
       "  </thead>\n",
       "  <tbody>\n",
       "    <tr>\n",
       "      <th>Afghanistan</th>\n",
       "      <td>2020-01-22</td>\n",
       "      <td>0</td>\n",
       "      <td>0</td>\n",
       "      <td>0</td>\n",
       "      <td>0</td>\n",
       "    </tr>\n",
       "    <tr>\n",
       "      <th>Afghanistan</th>\n",
       "      <td>2020-01-23</td>\n",
       "      <td>0</td>\n",
       "      <td>0</td>\n",
       "      <td>0</td>\n",
       "      <td>0</td>\n",
       "    </tr>\n",
       "    <tr>\n",
       "      <th>Afghanistan</th>\n",
       "      <td>2020-01-24</td>\n",
       "      <td>0</td>\n",
       "      <td>0</td>\n",
       "      <td>0</td>\n",
       "      <td>0</td>\n",
       "    </tr>\n",
       "    <tr>\n",
       "      <th>Afghanistan</th>\n",
       "      <td>2020-01-25</td>\n",
       "      <td>0</td>\n",
       "      <td>0</td>\n",
       "      <td>0</td>\n",
       "      <td>0</td>\n",
       "    </tr>\n",
       "    <tr>\n",
       "      <th>Afghanistan</th>\n",
       "      <td>2020-01-26</td>\n",
       "      <td>0</td>\n",
       "      <td>0</td>\n",
       "      <td>0</td>\n",
       "      <td>0</td>\n",
       "    </tr>\n",
       "    <tr>\n",
       "      <th>...</th>\n",
       "      <td>...</td>\n",
       "      <td>...</td>\n",
       "      <td>...</td>\n",
       "      <td>...</td>\n",
       "      <td>...</td>\n",
       "    </tr>\n",
       "    <tr>\n",
       "      <th>Zimbabwe</th>\n",
       "      <td>2022-01-31</td>\n",
       "      <td>229666</td>\n",
       "      <td>5338</td>\n",
       "      <td>206</td>\n",
       "      <td>1</td>\n",
       "    </tr>\n",
       "    <tr>\n",
       "      <th>Zimbabwe</th>\n",
       "      <td>2022-02-01</td>\n",
       "      <td>229851</td>\n",
       "      <td>5350</td>\n",
       "      <td>185</td>\n",
       "      <td>12</td>\n",
       "    </tr>\n",
       "    <tr>\n",
       "      <th>Zimbabwe</th>\n",
       "      <td>2022-02-02</td>\n",
       "      <td>230012</td>\n",
       "      <td>5352</td>\n",
       "      <td>161</td>\n",
       "      <td>2</td>\n",
       "    </tr>\n",
       "    <tr>\n",
       "      <th>Zimbabwe</th>\n",
       "      <td>2022-02-03</td>\n",
       "      <td>230170</td>\n",
       "      <td>5357</td>\n",
       "      <td>158</td>\n",
       "      <td>5</td>\n",
       "    </tr>\n",
       "    <tr>\n",
       "      <th>Zimbabwe</th>\n",
       "      <td>2022-02-04</td>\n",
       "      <td>230170</td>\n",
       "      <td>5357</td>\n",
       "      <td>0</td>\n",
       "      <td>0</td>\n",
       "    </tr>\n",
       "  </tbody>\n",
       "</table>\n",
       "<p>203385 rows × 5 columns</p>\n",
       "</div>"
      ],
      "text/plain": [
       "                   Date  Total cases  Total deaths  New cases  New deaths\n",
       "Country                                                                  \n",
       "Afghanistan  2020-01-22            0             0          0           0\n",
       "Afghanistan  2020-01-23            0             0          0           0\n",
       "Afghanistan  2020-01-24            0             0          0           0\n",
       "Afghanistan  2020-01-25            0             0          0           0\n",
       "Afghanistan  2020-01-26            0             0          0           0\n",
       "...                 ...          ...           ...        ...         ...\n",
       "Zimbabwe     2022-01-31       229666          5338        206           1\n",
       "Zimbabwe     2022-02-01       229851          5350        185          12\n",
       "Zimbabwe     2022-02-02       230012          5352        161           2\n",
       "Zimbabwe     2022-02-03       230170          5357        158           5\n",
       "Zimbabwe     2022-02-04       230170          5357          0           0\n",
       "\n",
       "[203385 rows x 5 columns]"
      ]
     },
     "execution_count": 120,
     "metadata": {},
     "output_type": "execute_result"
    }
   ],
   "source": [
    "data"
   ]
  },
  {
   "cell_type": "code",
   "execution_count": 164,
   "metadata": {},
   "outputs": [],
   "source": [
    "##grouping the countries together"
   ]
  },
  {
   "cell_type": "code",
   "execution_count": 162,
   "metadata": {},
   "outputs": [],
   "source": [
    "covidDataCountryGrouped = data.groupby('Country').sum()"
   ]
  },
  {
   "cell_type": "code",
   "execution_count": 131,
   "metadata": {},
   "outputs": [],
   "source": [
    "covidDataCountryGrouped.columns = covidDataCountryGrouped.columns.str.replace(' ','_')"
   ]
  },
  {
   "cell_type": "code",
   "execution_count": 132,
   "metadata": {},
   "outputs": [
    {
     "data": {
      "text/html": [
       "<div>\n",
       "<style scoped>\n",
       "    .dataframe tbody tr th:only-of-type {\n",
       "        vertical-align: middle;\n",
       "    }\n",
       "\n",
       "    .dataframe tbody tr th {\n",
       "        vertical-align: top;\n",
       "    }\n",
       "\n",
       "    .dataframe thead th {\n",
       "        text-align: right;\n",
       "    }\n",
       "</style>\n",
       "<table border=\"1\" class=\"dataframe\">\n",
       "  <thead>\n",
       "    <tr style=\"text-align: right;\">\n",
       "      <th></th>\n",
       "      <th>Total_cases</th>\n",
       "      <th>Total_deaths</th>\n",
       "      <th>New_cases</th>\n",
       "      <th>New_deaths</th>\n",
       "    </tr>\n",
       "    <tr>\n",
       "      <th>Country</th>\n",
       "      <th></th>\n",
       "      <th></th>\n",
       "      <th></th>\n",
       "      <th></th>\n",
       "    </tr>\n",
       "  </thead>\n",
       "  <tbody>\n",
       "    <tr>\n",
       "      <th>Afghanistan</th>\n",
       "      <td>53616281</td>\n",
       "      <td>2333935</td>\n",
       "      <td>165366</td>\n",
       "      <td>7420</td>\n",
       "    </tr>\n",
       "    <tr>\n",
       "      <th>Albania</th>\n",
       "      <td>63095851</td>\n",
       "      <td>1074529</td>\n",
       "      <td>263172</td>\n",
       "      <td>3371</td>\n",
       "    </tr>\n",
       "    <tr>\n",
       "      <th>Alberta</th>\n",
       "      <td>104954264</td>\n",
       "      <td>1052011</td>\n",
       "      <td>503434</td>\n",
       "      <td>3652</td>\n",
       "    </tr>\n",
       "    <tr>\n",
       "      <th>Algeria</th>\n",
       "      <td>75918424</td>\n",
       "      <td>2167120</td>\n",
       "      <td>256806</td>\n",
       "      <td>6631</td>\n",
       "    </tr>\n",
       "    <tr>\n",
       "      <th>Andorra</th>\n",
       "      <td>6844415</td>\n",
       "      <td>65135</td>\n",
       "      <td>36599</td>\n",
       "      <td>147</td>\n",
       "    </tr>\n",
       "    <tr>\n",
       "      <th>...</th>\n",
       "      <td>...</td>\n",
       "      <td>...</td>\n",
       "      <td>...</td>\n",
       "      <td>...</td>\n",
       "    </tr>\n",
       "    <tr>\n",
       "      <th>Yukon</th>\n",
       "      <td>284044</td>\n",
       "      <td>2644</td>\n",
       "      <td>3186</td>\n",
       "      <td>18</td>\n",
       "    </tr>\n",
       "    <tr>\n",
       "      <th>Yunnan</th>\n",
       "      <td>420561</td>\n",
       "      <td>1433</td>\n",
       "      <td>1883</td>\n",
       "      <td>2</td>\n",
       "    </tr>\n",
       "    <tr>\n",
       "      <th>Zambia</th>\n",
       "      <td>65248213</td>\n",
       "      <td>1037917</td>\n",
       "      <td>306777</td>\n",
       "      <td>3928</td>\n",
       "    </tr>\n",
       "    <tr>\n",
       "      <th>Zhejiang</th>\n",
       "      <td>1014258</td>\n",
       "      <td>716</td>\n",
       "      <td>2228</td>\n",
       "      <td>1</td>\n",
       "    </tr>\n",
       "    <tr>\n",
       "      <th>Zimbabwe</th>\n",
       "      <td>39286321</td>\n",
       "      <td>1249449</td>\n",
       "      <td>230176</td>\n",
       "      <td>5357</td>\n",
       "    </tr>\n",
       "  </tbody>\n",
       "</table>\n",
       "<p>273 rows × 4 columns</p>\n",
       "</div>"
      ],
      "text/plain": [
       "             Total_cases  Total_deaths  New_cases  New_deaths\n",
       "Country                                                      \n",
       "Afghanistan     53616281       2333935     165366        7420\n",
       "Albania         63095851       1074529     263172        3371\n",
       "Alberta        104954264       1052011     503434        3652\n",
       "Algeria         75918424       2167120     256806        6631\n",
       "Andorra          6844415         65135      36599         147\n",
       "...                  ...           ...        ...         ...\n",
       "Yukon             284044          2644       3186          18\n",
       "Yunnan            420561          1433       1883           2\n",
       "Zambia          65248213       1037917     306777        3928\n",
       "Zhejiang         1014258           716       2228           1\n",
       "Zimbabwe        39286321       1249449     230176        5357\n",
       "\n",
       "[273 rows x 4 columns]"
      ]
     },
     "execution_count": 132,
     "metadata": {},
     "output_type": "execute_result"
    }
   ],
   "source": [
    "covidDataCountryGrouped"
   ]
  },
  {
   "cell_type": "code",
   "execution_count": 133,
   "metadata": {},
   "outputs": [
    {
     "data": {
      "text/plain": [
       "Country\n",
       "Afghanistan    745\n",
       "Albania        745\n",
       "Alberta        745\n",
       "Algeria        745\n",
       "Andorra        745\n",
       "              ... \n",
       "Yukon          745\n",
       "Yunnan         745\n",
       "Zambia         745\n",
       "Zhejiang       745\n",
       "Zimbabwe       745\n",
       "Length: 279, dtype: int64"
      ]
     },
     "execution_count": 133,
     "metadata": {},
     "output_type": "execute_result"
    }
   ],
   "source": [
    "covidData.groupby('Country').size()"
   ]
  },
  {
   "cell_type": "code",
   "execution_count": 134,
   "metadata": {},
   "outputs": [
    {
     "data": {
      "text/plain": [
       "<AxesSubplot:>"
      ]
     },
     "execution_count": 134,
     "metadata": {},
     "output_type": "execute_result"
    },
    {
     "data": {
      "image/png": "[encoded data removed]",
      "text/plain": [
       "<Figure size 3600x504 with 1 Axes>"
      ]
     },
     "metadata": {
      "needs_background": "light"
     },
     "output_type": "display_data"
    }
   ],
   "source": [
    "covidData.Country.value_counts(normalize = True).plot(kind = \"bar\", figsize = (50,7))"
   ]
  },
  {
   "cell_type": "code",
   "execution_count": 135,
   "metadata": {},
   "outputs": [
    {
     "data": {
      "text/plain": [
       "17333428258"
      ]
     },
     "execution_count": 135,
     "metadata": {},
     "output_type": "execute_result"
    }
   ],
   "source": [
    "covidDataCountryGrouped['Total_cases'].max()"
   ]
  },
  {
   "cell_type": "code",
   "execution_count": 136,
   "metadata": {},
   "outputs": [
    {
     "data": {
      "text/plain": [
       "76354039"
      ]
     },
     "execution_count": 136,
     "metadata": {},
     "output_type": "execute_result"
    }
   ],
   "source": [
    "covidDataCountryGrouped['New_cases'].max()"
   ]
  },
  {
   "cell_type": "code",
   "execution_count": 137,
   "metadata": {},
   "outputs": [
    {
     "data": {
      "text/plain": [
       "301478150"
      ]
     },
     "execution_count": 137,
     "metadata": {},
     "output_type": "execute_result"
    }
   ],
   "source": [
    "covidDataCountryGrouped['Total_deaths'].max()"
   ]
  },
  {
   "cell_type": "code",
   "execution_count": 139,
   "metadata": {},
   "outputs": [
    {
     "data": {
      "text/plain": [
       "901391"
      ]
     },
     "execution_count": 139,
     "metadata": {},
     "output_type": "execute_result"
    }
   ],
   "source": [
    "covidDataCountryGrouped['New_deaths'].max()"
   ]
  },
  {
   "cell_type": "code",
   "execution_count": null,
   "metadata": {},
   "outputs": [],
   "source": []
  },
  {
   "cell_type": "code",
   "execution_count": 74,
   "metadata": {},
   "outputs": [],
   "source": [
    "##covidDataCountryGrouped.columns = covidDataCountryGrouped.columns.str.replace(' ','_')"
   ]
  },
  {
   "cell_type": "code",
   "execution_count": 140,
   "metadata": {},
   "outputs": [
    {
     "data": {
      "text/html": [
       "<div>\n",
       "<style scoped>\n",
       "    .dataframe tbody tr th:only-of-type {\n",
       "        vertical-align: middle;\n",
       "    }\n",
       "\n",
       "    .dataframe tbody tr th {\n",
       "        vertical-align: top;\n",
       "    }\n",
       "\n",
       "    .dataframe thead th {\n",
       "        text-align: right;\n",
       "    }\n",
       "</style>\n",
       "<table border=\"1\" class=\"dataframe\">\n",
       "  <thead>\n",
       "    <tr style=\"text-align: right;\">\n",
       "      <th></th>\n",
       "      <th>Total_cases</th>\n",
       "      <th>Total_deaths</th>\n",
       "      <th>New_cases</th>\n",
       "      <th>New_deaths</th>\n",
       "    </tr>\n",
       "    <tr>\n",
       "      <th>Country</th>\n",
       "      <th></th>\n",
       "      <th></th>\n",
       "      <th></th>\n",
       "      <th></th>\n",
       "    </tr>\n",
       "  </thead>\n",
       "  <tbody>\n",
       "    <tr>\n",
       "      <th>Afghanistan</th>\n",
       "      <td>53616281</td>\n",
       "      <td>2333935</td>\n",
       "      <td>165366</td>\n",
       "      <td>7420</td>\n",
       "    </tr>\n",
       "    <tr>\n",
       "      <th>Albania</th>\n",
       "      <td>63095851</td>\n",
       "      <td>1074529</td>\n",
       "      <td>263172</td>\n",
       "      <td>3371</td>\n",
       "    </tr>\n",
       "    <tr>\n",
       "      <th>Alberta</th>\n",
       "      <td>104954264</td>\n",
       "      <td>1052011</td>\n",
       "      <td>503434</td>\n",
       "      <td>3652</td>\n",
       "    </tr>\n",
       "    <tr>\n",
       "      <th>Algeria</th>\n",
       "      <td>75918424</td>\n",
       "      <td>2167120</td>\n",
       "      <td>256806</td>\n",
       "      <td>6631</td>\n",
       "    </tr>\n",
       "    <tr>\n",
       "      <th>Andorra</th>\n",
       "      <td>6844415</td>\n",
       "      <td>65135</td>\n",
       "      <td>36599</td>\n",
       "      <td>147</td>\n",
       "    </tr>\n",
       "    <tr>\n",
       "      <th>...</th>\n",
       "      <td>...</td>\n",
       "      <td>...</td>\n",
       "      <td>...</td>\n",
       "      <td>...</td>\n",
       "    </tr>\n",
       "    <tr>\n",
       "      <th>Yukon</th>\n",
       "      <td>284044</td>\n",
       "      <td>2644</td>\n",
       "      <td>3186</td>\n",
       "      <td>18</td>\n",
       "    </tr>\n",
       "    <tr>\n",
       "      <th>Yunnan</th>\n",
       "      <td>420561</td>\n",
       "      <td>1433</td>\n",
       "      <td>1883</td>\n",
       "      <td>2</td>\n",
       "    </tr>\n",
       "    <tr>\n",
       "      <th>Zambia</th>\n",
       "      <td>65248213</td>\n",
       "      <td>1037917</td>\n",
       "      <td>306777</td>\n",
       "      <td>3928</td>\n",
       "    </tr>\n",
       "    <tr>\n",
       "      <th>Zhejiang</th>\n",
       "      <td>1014258</td>\n",
       "      <td>716</td>\n",
       "      <td>2228</td>\n",
       "      <td>1</td>\n",
       "    </tr>\n",
       "    <tr>\n",
       "      <th>Zimbabwe</th>\n",
       "      <td>39286321</td>\n",
       "      <td>1249449</td>\n",
       "      <td>230176</td>\n",
       "      <td>5357</td>\n",
       "    </tr>\n",
       "  </tbody>\n",
       "</table>\n",
       "<p>273 rows × 4 columns</p>\n",
       "</div>"
      ],
      "text/plain": [
       "             Total_cases  Total_deaths  New_cases  New_deaths\n",
       "Country                                                      \n",
       "Afghanistan     53616281       2333935     165366        7420\n",
       "Albania         63095851       1074529     263172        3371\n",
       "Alberta        104954264       1052011     503434        3652\n",
       "Algeria         75918424       2167120     256806        6631\n",
       "Andorra          6844415         65135      36599         147\n",
       "...                  ...           ...        ...         ...\n",
       "Yukon             284044          2644       3186          18\n",
       "Yunnan            420561          1433       1883           2\n",
       "Zambia          65248213       1037917     306777        3928\n",
       "Zhejiang         1014258           716       2228           1\n",
       "Zimbabwe        39286321       1249449     230176        5357\n",
       "\n",
       "[273 rows x 4 columns]"
      ]
     },
     "execution_count": 140,
     "metadata": {},
     "output_type": "execute_result"
    }
   ],
   "source": [
    "covidDataCountryGrouped"
   ]
  },
  {
   "cell_type": "code",
   "execution_count": 142,
   "metadata": {},
   "outputs": [],
   "source": [
    "highestCountryTotalCases = covidDataCountryGrouped[covidDataCountryGrouped.Total_cases == 17333428258]"
   ]
  },
  {
   "cell_type": "code",
   "execution_count": 143,
   "metadata": {},
   "outputs": [],
   "source": [
    "highestCountryTotaldeaths = covidDataCountryGrouped[covidDataCountryGrouped.Total_deaths == 301478150]"
   ]
  },
  {
   "cell_type": "code",
   "execution_count": 144,
   "metadata": {},
   "outputs": [],
   "source": [
    "highestCountryNewCases = covidDataCountryGrouped[covidDataCountryGrouped.New_cases == 76354039]"
   ]
  },
  {
   "cell_type": "code",
   "execution_count": 145,
   "metadata": {},
   "outputs": [],
   "source": [
    "highestCountryNewdeaths = covidDataCountryGrouped[covidDataCountryGrouped.New_deaths == 901391]"
   ]
  },
  {
   "cell_type": "code",
   "execution_count": 146,
   "metadata": {},
   "outputs": [
    {
     "data": {
      "text/html": [
       "<div>\n",
       "<style scoped>\n",
       "    .dataframe tbody tr th:only-of-type {\n",
       "        vertical-align: middle;\n",
       "    }\n",
       "\n",
       "    .dataframe tbody tr th {\n",
       "        vertical-align: top;\n",
       "    }\n",
       "\n",
       "    .dataframe thead th {\n",
       "        text-align: right;\n",
       "    }\n",
       "</style>\n",
       "<table border=\"1\" class=\"dataframe\">\n",
       "  <thead>\n",
       "    <tr style=\"text-align: right;\">\n",
       "      <th></th>\n",
       "      <th>Total_cases</th>\n",
       "      <th>Total_deaths</th>\n",
       "      <th>New_cases</th>\n",
       "      <th>New_deaths</th>\n",
       "    </tr>\n",
       "    <tr>\n",
       "      <th>Country</th>\n",
       "      <th></th>\n",
       "      <th></th>\n",
       "      <th></th>\n",
       "      <th></th>\n",
       "    </tr>\n",
       "  </thead>\n",
       "  <tbody>\n",
       "    <tr>\n",
       "      <th>US</th>\n",
       "      <td>17333428258</td>\n",
       "      <td>301478150</td>\n",
       "      <td>76354039</td>\n",
       "      <td>901391</td>\n",
       "    </tr>\n",
       "  </tbody>\n",
       "</table>\n",
       "</div>"
      ],
      "text/plain": [
       "         Total_cases  Total_deaths  New_cases  New_deaths\n",
       "Country                                                  \n",
       "US       17333428258     301478150   76354039      901391"
      ]
     },
     "execution_count": 146,
     "metadata": {},
     "output_type": "execute_result"
    }
   ],
   "source": [
    "highestCountryTotalCases"
   ]
  },
  {
   "cell_type": "code",
   "execution_count": 147,
   "metadata": {},
   "outputs": [
    {
     "data": {
      "text/html": [
       "<div>\n",
       "<style scoped>\n",
       "    .dataframe tbody tr th:only-of-type {\n",
       "        vertical-align: middle;\n",
       "    }\n",
       "\n",
       "    .dataframe tbody tr th {\n",
       "        vertical-align: top;\n",
       "    }\n",
       "\n",
       "    .dataframe thead th {\n",
       "        text-align: right;\n",
       "    }\n",
       "</style>\n",
       "<table border=\"1\" class=\"dataframe\">\n",
       "  <thead>\n",
       "    <tr style=\"text-align: right;\">\n",
       "      <th></th>\n",
       "      <th>Total_cases</th>\n",
       "      <th>Total_deaths</th>\n",
       "      <th>New_cases</th>\n",
       "      <th>New_deaths</th>\n",
       "    </tr>\n",
       "    <tr>\n",
       "      <th>Country</th>\n",
       "      <th></th>\n",
       "      <th></th>\n",
       "      <th></th>\n",
       "      <th></th>\n",
       "    </tr>\n",
       "  </thead>\n",
       "  <tbody>\n",
       "    <tr>\n",
       "      <th>US</th>\n",
       "      <td>17333428258</td>\n",
       "      <td>301478150</td>\n",
       "      <td>76354039</td>\n",
       "      <td>901391</td>\n",
       "    </tr>\n",
       "  </tbody>\n",
       "</table>\n",
       "</div>"
      ],
      "text/plain": [
       "         Total_cases  Total_deaths  New_cases  New_deaths\n",
       "Country                                                  \n",
       "US       17333428258     301478150   76354039      901391"
      ]
     },
     "execution_count": 147,
     "metadata": {},
     "output_type": "execute_result"
    }
   ],
   "source": [
    "highestCountryTotaldeaths"
   ]
  },
  {
   "cell_type": "code",
   "execution_count": 148,
   "metadata": {},
   "outputs": [
    {
     "data": {
      "text/html": [
       "<div>\n",
       "<style scoped>\n",
       "    .dataframe tbody tr th:only-of-type {\n",
       "        vertical-align: middle;\n",
       "    }\n",
       "\n",
       "    .dataframe tbody tr th {\n",
       "        vertical-align: top;\n",
       "    }\n",
       "\n",
       "    .dataframe thead th {\n",
       "        text-align: right;\n",
       "    }\n",
       "</style>\n",
       "<table border=\"1\" class=\"dataframe\">\n",
       "  <thead>\n",
       "    <tr style=\"text-align: right;\">\n",
       "      <th></th>\n",
       "      <th>Total_cases</th>\n",
       "      <th>Total_deaths</th>\n",
       "      <th>New_cases</th>\n",
       "      <th>New_deaths</th>\n",
       "    </tr>\n",
       "    <tr>\n",
       "      <th>Country</th>\n",
       "      <th></th>\n",
       "      <th></th>\n",
       "      <th></th>\n",
       "      <th></th>\n",
       "    </tr>\n",
       "  </thead>\n",
       "  <tbody>\n",
       "    <tr>\n",
       "      <th>US</th>\n",
       "      <td>17333428258</td>\n",
       "      <td>301478150</td>\n",
       "      <td>76354039</td>\n",
       "      <td>901391</td>\n",
       "    </tr>\n",
       "  </tbody>\n",
       "</table>\n",
       "</div>"
      ],
      "text/plain": [
       "         Total_cases  Total_deaths  New_cases  New_deaths\n",
       "Country                                                  \n",
       "US       17333428258     301478150   76354039      901391"
      ]
     },
     "execution_count": 148,
     "metadata": {},
     "output_type": "execute_result"
    }
   ],
   "source": [
    "highestCountryNewCases"
   ]
  },
  {
   "cell_type": "code",
   "execution_count": 149,
   "metadata": {},
   "outputs": [
    {
     "data": {
      "text/html": [
       "<div>\n",
       "<style scoped>\n",
       "    .dataframe tbody tr th:only-of-type {\n",
       "        vertical-align: middle;\n",
       "    }\n",
       "\n",
       "    .dataframe tbody tr th {\n",
       "        vertical-align: top;\n",
       "    }\n",
       "\n",
       "    .dataframe thead th {\n",
       "        text-align: right;\n",
       "    }\n",
       "</style>\n",
       "<table border=\"1\" class=\"dataframe\">\n",
       "  <thead>\n",
       "    <tr style=\"text-align: right;\">\n",
       "      <th></th>\n",
       "      <th>Total_cases</th>\n",
       "      <th>Total_deaths</th>\n",
       "      <th>New_cases</th>\n",
       "      <th>New_deaths</th>\n",
       "    </tr>\n",
       "    <tr>\n",
       "      <th>Country</th>\n",
       "      <th></th>\n",
       "      <th></th>\n",
       "      <th></th>\n",
       "      <th></th>\n",
       "    </tr>\n",
       "  </thead>\n",
       "  <tbody>\n",
       "    <tr>\n",
       "      <th>US</th>\n",
       "      <td>17333428258</td>\n",
       "      <td>301478150</td>\n",
       "      <td>76354039</td>\n",
       "      <td>901391</td>\n",
       "    </tr>\n",
       "  </tbody>\n",
       "</table>\n",
       "</div>"
      ],
      "text/plain": [
       "         Total_cases  Total_deaths  New_cases  New_deaths\n",
       "Country                                                  \n",
       "US       17333428258     301478150   76354039      901391"
      ]
     },
     "execution_count": 149,
     "metadata": {},
     "output_type": "execute_result"
    }
   ],
   "source": [
    "highestCountryNewdeaths"
   ]
  },
  {
   "cell_type": "code",
   "execution_count": null,
   "metadata": {},
   "outputs": [],
   "source": []
  },
  {
   "cell_type": "code",
   "execution_count": 150,
   "metadata": {},
   "outputs": [
    {
     "data": {
      "text/plain": [
       "114"
      ]
     },
     "execution_count": 150,
     "metadata": {},
     "output_type": "execute_result"
    }
   ],
   "source": [
    "covidDataCountryGrouped['Total_cases'].min()"
   ]
  },
  {
   "cell_type": "code",
   "execution_count": 151,
   "metadata": {},
   "outputs": [
    {
     "data": {
      "text/plain": [
       "1"
      ]
     },
     "execution_count": 151,
     "metadata": {},
     "output_type": "execute_result"
    }
   ],
   "source": [
    "covidDataCountryGrouped['New_cases'].min()"
   ]
  },
  {
   "cell_type": "code",
   "execution_count": 152,
   "metadata": {},
   "outputs": [
    {
     "data": {
      "text/plain": [
       "0"
      ]
     },
     "execution_count": 152,
     "metadata": {},
     "output_type": "execute_result"
    }
   ],
   "source": [
    "covidDataCountryGrouped['Total_deaths'].min()"
   ]
  },
  {
   "cell_type": "code",
   "execution_count": 153,
   "metadata": {},
   "outputs": [
    {
     "data": {
      "text/plain": [
       "0"
      ]
     },
     "execution_count": 153,
     "metadata": {},
     "output_type": "execute_result"
    }
   ],
   "source": [
    "covidDataCountryGrouped['New_deaths'].min()"
   ]
  },
  {
   "cell_type": "code",
   "execution_count": null,
   "metadata": {},
   "outputs": [],
   "source": []
  },
  {
   "cell_type": "code",
   "execution_count": 154,
   "metadata": {},
   "outputs": [],
   "source": [
    "lowestCountryTotalCases = covidDataCountryGrouped[covidDataCountryGrouped.Total_cases == 114]"
   ]
  },
  {
   "cell_type": "code",
   "execution_count": 155,
   "metadata": {},
   "outputs": [],
   "source": [
    "lowestCountryTotaldeaths = covidDataCountryGrouped[covidDataCountryGrouped.Total_deaths == 0]"
   ]
  },
  {
   "cell_type": "code",
   "execution_count": 156,
   "metadata": {},
   "outputs": [],
   "source": [
    "lowestCountryNewCases = covidDataCountryGrouped[covidDataCountryGrouped.New_cases == 1]"
   ]
  },
  {
   "cell_type": "code",
   "execution_count": 157,
   "metadata": {},
   "outputs": [],
   "source": [
    "lowestCountryNewdeaths = covidDataCountryGrouped[covidDataCountryGrouped.New_deaths == 0]"
   ]
  },
  {
   "cell_type": "code",
   "execution_count": null,
   "metadata": {},
   "outputs": [],
   "source": []
  },
  {
   "cell_type": "code",
   "execution_count": 158,
   "metadata": {},
   "outputs": [
    {
     "data": {
      "text/html": [
       "<div>\n",
       "<style scoped>\n",
       "    .dataframe tbody tr th:only-of-type {\n",
       "        vertical-align: middle;\n",
       "    }\n",
       "\n",
       "    .dataframe tbody tr th {\n",
       "        vertical-align: top;\n",
       "    }\n",
       "\n",
       "    .dataframe thead th {\n",
       "        text-align: right;\n",
       "    }\n",
       "</style>\n",
       "<table border=\"1\" class=\"dataframe\">\n",
       "  <thead>\n",
       "    <tr style=\"text-align: right;\">\n",
       "      <th></th>\n",
       "      <th>Total_cases</th>\n",
       "      <th>Total_deaths</th>\n",
       "      <th>New_cases</th>\n",
       "      <th>New_deaths</th>\n",
       "    </tr>\n",
       "    <tr>\n",
       "      <th>Country</th>\n",
       "      <th></th>\n",
       "      <th></th>\n",
       "      <th></th>\n",
       "      <th></th>\n",
       "    </tr>\n",
       "  </thead>\n",
       "  <tbody>\n",
       "    <tr>\n",
       "      <th>Tonga</th>\n",
       "      <td>114</td>\n",
       "      <td>0</td>\n",
       "      <td>7</td>\n",
       "      <td>0</td>\n",
       "    </tr>\n",
       "  </tbody>\n",
       "</table>\n",
       "</div>"
      ],
      "text/plain": [
       "         Total_cases  Total_deaths  New_cases  New_deaths\n",
       "Country                                                  \n",
       "Tonga            114             0          7           0"
      ]
     },
     "execution_count": 158,
     "metadata": {},
     "output_type": "execute_result"
    }
   ],
   "source": [
    "lowestCountryTotalCases"
   ]
  },
  {
   "cell_type": "code",
   "execution_count": 159,
   "metadata": {},
   "outputs": [
    {
     "data": {
      "text/html": [
       "<div>\n",
       "<style scoped>\n",
       "    .dataframe tbody tr th:only-of-type {\n",
       "        vertical-align: middle;\n",
       "    }\n",
       "\n",
       "    .dataframe tbody tr th {\n",
       "        vertical-align: top;\n",
       "    }\n",
       "\n",
       "    .dataframe thead th {\n",
       "        text-align: right;\n",
       "    }\n",
       "</style>\n",
       "<table border=\"1\" class=\"dataframe\">\n",
       "  <thead>\n",
       "    <tr style=\"text-align: right;\">\n",
       "      <th></th>\n",
       "      <th>Total_cases</th>\n",
       "      <th>Total_deaths</th>\n",
       "      <th>New_cases</th>\n",
       "      <th>New_deaths</th>\n",
       "    </tr>\n",
       "    <tr>\n",
       "      <th>Country</th>\n",
       "      <th></th>\n",
       "      <th></th>\n",
       "      <th></th>\n",
       "      <th></th>\n",
       "    </tr>\n",
       "  </thead>\n",
       "  <tbody>\n",
       "    <tr>\n",
       "      <th>Cook Islands</th>\n",
       "      <td>324</td>\n",
       "      <td>0</td>\n",
       "      <td>2</td>\n",
       "      <td>0</td>\n",
       "    </tr>\n",
       "    <tr>\n",
       "      <th>Falkland Islands (Malvinas)</th>\n",
       "      <td>29537</td>\n",
       "      <td>0</td>\n",
       "      <td>93</td>\n",
       "      <td>0</td>\n",
       "    </tr>\n",
       "    <tr>\n",
       "      <th>Holy See</th>\n",
       "      <td>15265</td>\n",
       "      <td>0</td>\n",
       "      <td>29</td>\n",
       "      <td>0</td>\n",
       "    </tr>\n",
       "    <tr>\n",
       "      <th>Jiangsu</th>\n",
       "      <td>669575</td>\n",
       "      <td>0</td>\n",
       "      <td>1629</td>\n",
       "      <td>0</td>\n",
       "    </tr>\n",
       "    <tr>\n",
       "      <th>Kiribati</th>\n",
       "      <td>5739</td>\n",
       "      <td>0</td>\n",
       "      <td>1037</td>\n",
       "      <td>0</td>\n",
       "    </tr>\n",
       "    <tr>\n",
       "      <th>Macau</th>\n",
       "      <td>37716</td>\n",
       "      <td>0</td>\n",
       "      <td>78</td>\n",
       "      <td>0</td>\n",
       "    </tr>\n",
       "    <tr>\n",
       "      <th>Marshall Islands</th>\n",
       "      <td>1898</td>\n",
       "      <td>0</td>\n",
       "      <td>8</td>\n",
       "      <td>0</td>\n",
       "    </tr>\n",
       "    <tr>\n",
       "      <th>Micronesia</th>\n",
       "      <td>380</td>\n",
       "      <td>0</td>\n",
       "      <td>1</td>\n",
       "      <td>0</td>\n",
       "    </tr>\n",
       "    <tr>\n",
       "      <th>Ningxia</th>\n",
       "      <td>59706</td>\n",
       "      <td>0</td>\n",
       "      <td>121</td>\n",
       "      <td>0</td>\n",
       "    </tr>\n",
       "    <tr>\n",
       "      <th>Palau</th>\n",
       "      <td>20331</td>\n",
       "      <td>0</td>\n",
       "      <td>2352</td>\n",
       "      <td>0</td>\n",
       "    </tr>\n",
       "    <tr>\n",
       "      <th>Qinghai</th>\n",
       "      <td>14411</td>\n",
       "      <td>0</td>\n",
       "      <td>30</td>\n",
       "      <td>0</td>\n",
       "    </tr>\n",
       "    <tr>\n",
       "      <th>Samoa</th>\n",
       "      <td>1603</td>\n",
       "      <td>0</td>\n",
       "      <td>33</td>\n",
       "      <td>0</td>\n",
       "    </tr>\n",
       "    <tr>\n",
       "      <th>Shanxi</th>\n",
       "      <td>164646</td>\n",
       "      <td>0</td>\n",
       "      <td>267</td>\n",
       "      <td>0</td>\n",
       "    </tr>\n",
       "    <tr>\n",
       "      <th>Tibet</th>\n",
       "      <td>737</td>\n",
       "      <td>0</td>\n",
       "      <td>1</td>\n",
       "      <td>0</td>\n",
       "    </tr>\n",
       "    <tr>\n",
       "      <th>Tonga</th>\n",
       "      <td>114</td>\n",
       "      <td>0</td>\n",
       "      <td>7</td>\n",
       "      <td>0</td>\n",
       "    </tr>\n",
       "  </tbody>\n",
       "</table>\n",
       "</div>"
      ],
      "text/plain": [
       "                             Total_cases  Total_deaths  New_cases  New_deaths\n",
       "Country                                                                      \n",
       "Cook Islands                         324             0          2           0\n",
       "Falkland Islands (Malvinas)        29537             0         93           0\n",
       "Holy See                           15265             0         29           0\n",
       "Jiangsu                           669575             0       1629           0\n",
       "Kiribati                            5739             0       1037           0\n",
       "Macau                              37716             0         78           0\n",
       "Marshall Islands                    1898             0          8           0\n",
       "Micronesia                           380             0          1           0\n",
       "Ningxia                            59706             0        121           0\n",
       "Palau                              20331             0       2352           0\n",
       "Qinghai                            14411             0         30           0\n",
       "Samoa                               1603             0         33           0\n",
       "Shanxi                            164646             0        267           0\n",
       "Tibet                                737             0          1           0\n",
       "Tonga                                114             0          7           0"
      ]
     },
     "execution_count": 159,
     "metadata": {},
     "output_type": "execute_result"
    }
   ],
   "source": [
    "lowestCountryTotaldeaths"
   ]
  },
  {
   "cell_type": "code",
   "execution_count": 160,
   "metadata": {},
   "outputs": [
    {
     "data": {
      "text/html": [
       "<div>\n",
       "<style scoped>\n",
       "    .dataframe tbody tr th:only-of-type {\n",
       "        vertical-align: middle;\n",
       "    }\n",
       "\n",
       "    .dataframe tbody tr th {\n",
       "        vertical-align: top;\n",
       "    }\n",
       "\n",
       "    .dataframe thead th {\n",
       "        text-align: right;\n",
       "    }\n",
       "</style>\n",
       "<table border=\"1\" class=\"dataframe\">\n",
       "  <thead>\n",
       "    <tr style=\"text-align: right;\">\n",
       "      <th></th>\n",
       "      <th>Total_cases</th>\n",
       "      <th>Total_deaths</th>\n",
       "      <th>New_cases</th>\n",
       "      <th>New_deaths</th>\n",
       "    </tr>\n",
       "    <tr>\n",
       "      <th>Country</th>\n",
       "      <th></th>\n",
       "      <th></th>\n",
       "      <th></th>\n",
       "      <th></th>\n",
       "    </tr>\n",
       "  </thead>\n",
       "  <tbody>\n",
       "    <tr>\n",
       "      <th>Micronesia</th>\n",
       "      <td>380</td>\n",
       "      <td>0</td>\n",
       "      <td>1</td>\n",
       "      <td>0</td>\n",
       "    </tr>\n",
       "    <tr>\n",
       "      <th>Tibet</th>\n",
       "      <td>737</td>\n",
       "      <td>0</td>\n",
       "      <td>1</td>\n",
       "      <td>0</td>\n",
       "    </tr>\n",
       "  </tbody>\n",
       "</table>\n",
       "</div>"
      ],
      "text/plain": [
       "            Total_cases  Total_deaths  New_cases  New_deaths\n",
       "Country                                                     \n",
       "Micronesia          380             0          1           0\n",
       "Tibet               737             0          1           0"
      ]
     },
     "execution_count": 160,
     "metadata": {},
     "output_type": "execute_result"
    }
   ],
   "source": [
    "lowestCountryNewCases"
   ]
  },
  {
   "cell_type": "code",
   "execution_count": 161,
   "metadata": {},
   "outputs": [
    {
     "data": {
      "text/html": [
       "<div>\n",
       "<style scoped>\n",
       "    .dataframe tbody tr th:only-of-type {\n",
       "        vertical-align: middle;\n",
       "    }\n",
       "\n",
       "    .dataframe tbody tr th {\n",
       "        vertical-align: top;\n",
       "    }\n",
       "\n",
       "    .dataframe thead th {\n",
       "        text-align: right;\n",
       "    }\n",
       "</style>\n",
       "<table border=\"1\" class=\"dataframe\">\n",
       "  <thead>\n",
       "    <tr style=\"text-align: right;\">\n",
       "      <th></th>\n",
       "      <th>Total_cases</th>\n",
       "      <th>Total_deaths</th>\n",
       "      <th>New_cases</th>\n",
       "      <th>New_deaths</th>\n",
       "    </tr>\n",
       "    <tr>\n",
       "      <th>Country</th>\n",
       "      <th></th>\n",
       "      <th></th>\n",
       "      <th></th>\n",
       "      <th></th>\n",
       "    </tr>\n",
       "  </thead>\n",
       "  <tbody>\n",
       "    <tr>\n",
       "      <th>Cook Islands</th>\n",
       "      <td>324</td>\n",
       "      <td>0</td>\n",
       "      <td>2</td>\n",
       "      <td>0</td>\n",
       "    </tr>\n",
       "    <tr>\n",
       "      <th>Falkland Islands (Malvinas)</th>\n",
       "      <td>29537</td>\n",
       "      <td>0</td>\n",
       "      <td>93</td>\n",
       "      <td>0</td>\n",
       "    </tr>\n",
       "    <tr>\n",
       "      <th>Holy See</th>\n",
       "      <td>15265</td>\n",
       "      <td>0</td>\n",
       "      <td>29</td>\n",
       "      <td>0</td>\n",
       "    </tr>\n",
       "    <tr>\n",
       "      <th>Jiangsu</th>\n",
       "      <td>669575</td>\n",
       "      <td>0</td>\n",
       "      <td>1629</td>\n",
       "      <td>0</td>\n",
       "    </tr>\n",
       "    <tr>\n",
       "      <th>Kiribati</th>\n",
       "      <td>5739</td>\n",
       "      <td>0</td>\n",
       "      <td>1037</td>\n",
       "      <td>0</td>\n",
       "    </tr>\n",
       "    <tr>\n",
       "      <th>Macau</th>\n",
       "      <td>37716</td>\n",
       "      <td>0</td>\n",
       "      <td>78</td>\n",
       "      <td>0</td>\n",
       "    </tr>\n",
       "    <tr>\n",
       "      <th>Marshall Islands</th>\n",
       "      <td>1898</td>\n",
       "      <td>0</td>\n",
       "      <td>8</td>\n",
       "      <td>0</td>\n",
       "    </tr>\n",
       "    <tr>\n",
       "      <th>Micronesia</th>\n",
       "      <td>380</td>\n",
       "      <td>0</td>\n",
       "      <td>1</td>\n",
       "      <td>0</td>\n",
       "    </tr>\n",
       "    <tr>\n",
       "      <th>Ningxia</th>\n",
       "      <td>59706</td>\n",
       "      <td>0</td>\n",
       "      <td>121</td>\n",
       "      <td>0</td>\n",
       "    </tr>\n",
       "    <tr>\n",
       "      <th>Palau</th>\n",
       "      <td>20331</td>\n",
       "      <td>0</td>\n",
       "      <td>2352</td>\n",
       "      <td>0</td>\n",
       "    </tr>\n",
       "    <tr>\n",
       "      <th>Qinghai</th>\n",
       "      <td>14411</td>\n",
       "      <td>0</td>\n",
       "      <td>30</td>\n",
       "      <td>0</td>\n",
       "    </tr>\n",
       "    <tr>\n",
       "      <th>Samoa</th>\n",
       "      <td>1603</td>\n",
       "      <td>0</td>\n",
       "      <td>33</td>\n",
       "      <td>0</td>\n",
       "    </tr>\n",
       "    <tr>\n",
       "      <th>Shanxi</th>\n",
       "      <td>164646</td>\n",
       "      <td>0</td>\n",
       "      <td>267</td>\n",
       "      <td>0</td>\n",
       "    </tr>\n",
       "    <tr>\n",
       "      <th>Tibet</th>\n",
       "      <td>737</td>\n",
       "      <td>0</td>\n",
       "      <td>1</td>\n",
       "      <td>0</td>\n",
       "    </tr>\n",
       "    <tr>\n",
       "      <th>Tonga</th>\n",
       "      <td>114</td>\n",
       "      <td>0</td>\n",
       "      <td>7</td>\n",
       "      <td>0</td>\n",
       "    </tr>\n",
       "  </tbody>\n",
       "</table>\n",
       "</div>"
      ],
      "text/plain": [
       "                             Total_cases  Total_deaths  New_cases  New_deaths\n",
       "Country                                                                      \n",
       "Cook Islands                         324             0          2           0\n",
       "Falkland Islands (Malvinas)        29537             0         93           0\n",
       "Holy See                           15265             0         29           0\n",
       "Jiangsu                           669575             0       1629           0\n",
       "Kiribati                            5739             0       1037           0\n",
       "Macau                              37716             0         78           0\n",
       "Marshall Islands                    1898             0          8           0\n",
       "Micronesia                           380             0          1           0\n",
       "Ningxia                            59706             0        121           0\n",
       "Palau                              20331             0       2352           0\n",
       "Qinghai                            14411             0         30           0\n",
       "Samoa                               1603             0         33           0\n",
       "Shanxi                            164646             0        267           0\n",
       "Tibet                                737             0          1           0\n",
       "Tonga                                114             0          7           0"
      ]
     },
     "execution_count": 161,
     "metadata": {},
     "output_type": "execute_result"
    }
   ],
   "source": [
    "lowestCountryNewdeaths"
   ]
  },
  {
   "cell_type": "code",
   "execution_count": null,
   "metadata": {},
   "outputs": [],
   "source": []
  }
 ],
 "metadata": {
  "kernelspec": {
   "display_name": "Python 3",
   "language": "python",
   "name": "python3"
  },
  "language_info": {
   "codemirror_mode": {
    "name": "ipython",
    "version": 3
   },
   "file_extension": ".py",
   "mimetype": "text/x-python",
   "name": "python",
   "nbconvert_exporter": "python",
   "pygments_lexer": "ipython3",
   "version": "3.8.5"
  }
 },
 "nbformat": 4,
 "nbformat_minor": 4
}
